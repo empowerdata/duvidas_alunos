{
 "cells": [
  {
   "cell_type": "markdown",
   "metadata": {},
   "source": [
    "# Lendo um arquivo ZIP com o Pandas"
   ]
  },
  {
   "cell_type": "markdown",
   "metadata": {},
   "source": [
    "## Dúvida:\n",
    "\n",
    "Vamos acessar um arquivo zip? Pois muitos dos arquivos que preciso trabalhar, o histórico está contido na web, porém em arquivo zip."
   ]
  },
  {
   "cell_type": "markdown",
   "metadata": {},
   "source": [
    "Nesse exemplo vamos ver como ler um arquivo CSV zipado, diretamente da Web, utilizando a biblioteca Pandas.\n",
    "\n",
    "Para isso, vamos utilizar o parâmetro `compression`. Funciona para `zip`, `gzip`, `tar`, entre outras...\n",
    "\n",
    "Documentação do `read_csv()`: [read_csv](https://pandas.pydata.org/docs/reference/api/pandas.read_csv.html)"
   ]
  },
  {
   "cell_type": "code",
   "execution_count": 3,
   "metadata": {},
   "outputs": [],
   "source": [
    "import pandas as pd\n",
    "\n",
    "df = pd.read_csv(r'datasets\\vendas.zip', sep=';', compression='zip')"
   ]
  },
  {
   "cell_type": "code",
   "execution_count": 4,
   "metadata": {},
   "outputs": [
    {
     "data": {
      "text/plain": [
       "(70000, 11)"
      ]
     },
     "execution_count": 4,
     "metadata": {},
     "output_type": "execute_result"
    }
   ],
   "source": [
    "df.shape"
   ]
  },
  {
   "cell_type": "code",
   "execution_count": 6,
   "metadata": {},
   "outputs": [
    {
     "data": {
      "text/html": [
       "<div>\n",
       "<style scoped>\n",
       "    .dataframe tbody tr th:only-of-type {\n",
       "        vertical-align: middle;\n",
       "    }\n",
       "\n",
       "    .dataframe tbody tr th {\n",
       "        vertical-align: top;\n",
       "    }\n",
       "\n",
       "    .dataframe thead th {\n",
       "        text-align: right;\n",
       "    }\n",
       "</style>\n",
       "<table border=\"1\" class=\"dataframe\">\n",
       "  <thead>\n",
       "    <tr style=\"text-align: right;\">\n",
       "      <th></th>\n",
       "      <th>id_pedido</th>\n",
       "      <th>data</th>\n",
       "      <th>loja</th>\n",
       "      <th>cidade</th>\n",
       "      <th>estado</th>\n",
       "      <th>regiao</th>\n",
       "      <th>tamanho</th>\n",
       "      <th>local_consumo</th>\n",
       "      <th>preco</th>\n",
       "      <th>forma_pagamento</th>\n",
       "      <th>ano_mes</th>\n",
       "    </tr>\n",
       "  </thead>\n",
       "  <tbody>\n",
       "    <tr>\n",
       "      <th>0</th>\n",
       "      <td>PED1</td>\n",
       "      <td>21/06/2021</td>\n",
       "      <td>Loja 4</td>\n",
       "      <td>Santos</td>\n",
       "      <td>São Paulo</td>\n",
       "      <td>Sudeste</td>\n",
       "      <td>200ml</td>\n",
       "      <td>Delivery</td>\n",
       "      <td>R$ 5,00</td>\n",
       "      <td>Crédito</td>\n",
       "      <td>2021-06</td>\n",
       "    </tr>\n",
       "    <tr>\n",
       "      <th>1</th>\n",
       "      <td>PED2</td>\n",
       "      <td>17/04/2021</td>\n",
       "      <td>Loja 2</td>\n",
       "      <td>Niterói</td>\n",
       "      <td>Rio de Janeiro</td>\n",
       "      <td>Sudeste</td>\n",
       "      <td>200ml</td>\n",
       "      <td>Consumo no local</td>\n",
       "      <td>R$ 5,00</td>\n",
       "      <td>Pix</td>\n",
       "      <td>2021-04</td>\n",
       "    </tr>\n",
       "    <tr>\n",
       "      <th>2</th>\n",
       "      <td>PED3</td>\n",
       "      <td>12/12/2022</td>\n",
       "      <td>Loja 1</td>\n",
       "      <td>Fortaleza</td>\n",
       "      <td>Ceará</td>\n",
       "      <td>Nordeste</td>\n",
       "      <td>500ml</td>\n",
       "      <td>Delivery</td>\n",
       "      <td>R$ 9,00</td>\n",
       "      <td>Pix</td>\n",
       "      <td>2022-12</td>\n",
       "    </tr>\n",
       "    <tr>\n",
       "      <th>3</th>\n",
       "      <td>PED4</td>\n",
       "      <td>09/03/2022</td>\n",
       "      <td>Loja 2</td>\n",
       "      <td>Niterói</td>\n",
       "      <td>Rio de Janeiro</td>\n",
       "      <td>Sudeste</td>\n",
       "      <td>300ml</td>\n",
       "      <td>Consumo no local</td>\n",
       "      <td>R$ 7,00</td>\n",
       "      <td>Débito</td>\n",
       "      <td>2022-03</td>\n",
       "    </tr>\n",
       "    <tr>\n",
       "      <th>4</th>\n",
       "      <td>PED5</td>\n",
       "      <td>28/11/2022</td>\n",
       "      <td>Loja 4</td>\n",
       "      <td>Santos</td>\n",
       "      <td>São Paulo</td>\n",
       "      <td>Sudeste</td>\n",
       "      <td>700ml</td>\n",
       "      <td>Delivery</td>\n",
       "      <td>R$ 11,00</td>\n",
       "      <td>Débito</td>\n",
       "      <td>2022-11</td>\n",
       "    </tr>\n",
       "  </tbody>\n",
       "</table>\n",
       "</div>"
      ],
      "text/plain": [
       "  id_pedido        data    loja     cidade          estado    regiao tamanho  \\\n",
       "0      PED1  21/06/2021  Loja 4     Santos       São Paulo   Sudeste   200ml   \n",
       "1      PED2  17/04/2021  Loja 2    Niterói  Rio de Janeiro   Sudeste   200ml   \n",
       "2      PED3  12/12/2022  Loja 1  Fortaleza           Ceará  Nordeste   500ml   \n",
       "3      PED4  09/03/2022  Loja 2    Niterói  Rio de Janeiro   Sudeste   300ml   \n",
       "4      PED5  28/11/2022  Loja 4     Santos       São Paulo   Sudeste   700ml   \n",
       "\n",
       "      local_consumo      preco  forma_pagamento  ano_mes  \n",
       "0          Delivery    R$ 5,00          Crédito  2021-06  \n",
       "1  Consumo no local    R$ 5,00              Pix  2021-04  \n",
       "2          Delivery    R$ 9,00              Pix  2022-12  \n",
       "3  Consumo no local    R$ 7,00           Débito  2022-03  \n",
       "4          Delivery   R$ 11,00           Débito  2022-11  "
      ]
     },
     "execution_count": 6,
     "metadata": {},
     "output_type": "execute_result"
    }
   ],
   "source": [
    "df.head()"
   ]
  },
  {
   "cell_type": "code",
   "execution_count": null,
   "metadata": {},
   "outputs": [],
   "source": []
  }
 ],
 "metadata": {
  "kernelspec": {
   "display_name": "Python 3.9.12 ('base')",
   "language": "python",
   "name": "python3"
  },
  "language_info": {
   "codemirror_mode": {
    "name": "ipython",
    "version": 3
   },
   "file_extension": ".py",
   "mimetype": "text/x-python",
   "name": "python",
   "nbconvert_exporter": "python",
   "pygments_lexer": "ipython3",
   "version": "3.9.12"
  },
  "orig_nbformat": 4,
  "vscode": {
   "interpreter": {
    "hash": "6467cde764c137f84d8db938254cde60243c46e0fe8734c86fbe71b9c1c73122"
   }
  }
 },
 "nbformat": 4,
 "nbformat_minor": 2
}
