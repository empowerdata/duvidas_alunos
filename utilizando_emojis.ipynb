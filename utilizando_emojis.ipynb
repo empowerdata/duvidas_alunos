{
 "cells": [
  {
   "attachments": {},
   "cell_type": "markdown",
   "metadata": {},
   "source": [
    "# Utilizando emojis\n",
    "\n",
    "## Dúvida:\n",
    "\n",
    "Utilizando o conhecimento dos emojis como faria para colocar um emoji na frente de cada solução para os casos True, por exemplo.\n",
    "Por exemplo:\n",
    "`(Vinicius, True, 21)` inserir um thumbs_up\n",
    "\n",
    "\n",
    "tentei de várias formas mas todas deram erro.\n",
    "\n"
   ]
  },
  {
   "attachments": {},
   "cell_type": "markdown",
   "metadata": {},
   "source": [
    "# Utilizando a biblioteca Emoji"
   ]
  },
  {
   "cell_type": "code",
   "execution_count": 1,
   "metadata": {},
   "outputs": [
    {
     "name": "stdout",
     "output_type": "stream",
     "text": [
      "Collecting emoji\n",
      "  Downloading emoji-2.2.0.tar.gz (240 kB)\n",
      "     -------------------------------------- 240.9/240.9 kB 2.1 MB/s eta 0:00:00\n",
      "  Preparing metadata (setup.py): started\n",
      "  Preparing metadata (setup.py): finished with status 'done'\n",
      "Building wheels for collected packages: emoji\n",
      "  Building wheel for emoji (setup.py): started\n",
      "  Building wheel for emoji (setup.py): finished with status 'done'\n",
      "  Created wheel for emoji: filename=emoji-2.2.0-py3-none-any.whl size=234912 sha256=e49d88e9b1763d0ea0dc5261dbad647ecf01c3ee66bd9539d0ee9ac118e99e44\n",
      "  Stored in directory: c:\\users\\vinil\\appdata\\local\\pip\\cache\\wheels\\02\\3d\\88\\51a592b9ad17e7899126563698b4e3961983ebe85747228ba6\n",
      "Successfully built emoji\n",
      "Installing collected packages: emoji\n",
      "Successfully installed emoji-2.2.0\n"
     ]
    }
   ],
   "source": [
    "# instalando a biblioteca Emoji\n",
    "!pip install emoji"
   ]
  },
  {
   "cell_type": "code",
   "execution_count": 2,
   "metadata": {},
   "outputs": [
    {
     "name": "stdout",
     "output_type": "stream",
     "text": [
      "Vinicius pode dirigir. 👍\n",
      "Gabriel não pode dirigir! 👎\n",
      "Ana pode dirigir. 👍\n",
      "Victor pode dirigir. 👍\n",
      "Lucas não pode dirigir! 👎\n"
     ]
    }
   ],
   "source": [
    "import emoji\n",
    "\n",
    "pessoas = [ ('Vinicius', True, 21), \n",
    "            ('Gabriel', False, 25), \n",
    "            ('Ana', True, 20), \n",
    "            ('Victor', True, 30), \n",
    "            ('Lucas', False, 15) ]\n",
    "\n",
    "for pessoa in pessoas:\n",
    "  if pessoa[1] == True and pessoa[2] >= 18:\n",
    "    print(f'{pessoa[0]} pode dirigir.', emoji.emojize(\":thumbs_up:\"))\n",
    "  else:\n",
    "    print(f'{pessoa[0]} não pode dirigir!', emoji.emojize(\":thumbs_down:\"))"
   ]
  },
  {
   "cell_type": "code",
   "execution_count": null,
   "metadata": {},
   "outputs": [],
   "source": []
  }
 ],
 "metadata": {
  "kernelspec": {
   "display_name": "datascience",
   "language": "python",
   "name": "python3"
  },
  "language_info": {
   "codemirror_mode": {
    "name": "ipython",
    "version": 3
   },
   "file_extension": ".py",
   "mimetype": "text/x-python",
   "name": "python",
   "nbconvert_exporter": "python",
   "pygments_lexer": "ipython3",
   "version": "3.10.6"
  },
  "orig_nbformat": 4,
  "vscode": {
   "interpreter": {
    "hash": "2f87b4627ae43b1be3ddbd0b55a452edfb9ef6beb24e6e8431740fc119500b00"
   }
  }
 },
 "nbformat": 4,
 "nbformat_minor": 2
}
