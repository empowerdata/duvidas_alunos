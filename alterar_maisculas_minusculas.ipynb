{
 "cells": [
  {
   "attachments": {},
   "cell_type": "markdown",
   "metadata": {},
   "source": [
    "# Alterar letras maiúsculas e minúsculas\n",
    "\n",
    "## Dúvida\n",
    "\n",
    "Existe a possibilidade de darmos comando para que alguma determinada letra do string inverta de maiúscula para minúscula?"
   ]
  },
  {
   "cell_type": "code",
   "execution_count": 3,
   "metadata": {},
   "outputs": [],
   "source": [
    "def altera_maiuscula_minuscula(texto):\n",
    "    texto_alterado = []\n",
    "    for letra in texto:\n",
    "        if letra.islower():\n",
    "            texto_alterado.append(letra.upper())\n",
    "        else:\n",
    "            texto_alterado.append(letra.lower())\n",
    "    return ''.join(texto_alterado)\n"
   ]
  },
  {
   "cell_type": "code",
   "execution_count": 6,
   "metadata": {},
   "outputs": [],
   "source": [
    "frase = 'InverRTenDo LetrAs'"
   ]
  },
  {
   "cell_type": "code",
   "execution_count": 7,
   "metadata": {},
   "outputs": [
    {
     "name": "stdout",
     "output_type": "stream",
     "text": [
      "iNVERrtENdO lETRaS\n"
     ]
    }
   ],
   "source": [
    "frase = altera_maiuscula_minuscula(frase)\n",
    "print(frase)"
   ]
  },
  {
   "attachments": {},
   "cell_type": "markdown",
   "metadata": {},
   "source": [
    "## Exemplo de aplicação do método title()"
   ]
  },
  {
   "cell_type": "code",
   "execution_count": 2,
   "metadata": {},
   "outputs": [],
   "source": [
    "lista_nomes = ['maria luiza silva', \n",
    "               'marcos de alcântara neto', \n",
    "               'diego santos', \n",
    "               'marlene ribeiro da cunha']"
   ]
  },
  {
   "cell_type": "code",
   "execution_count": 3,
   "metadata": {},
   "outputs": [
    {
     "name": "stdout",
     "output_type": "stream",
     "text": [
      "['Maria Luiza Silva', 'Marcos De Alcântara Neto', 'Diego Santos', 'Marlene Ribeiro Da Cunha']\n"
     ]
    }
   ],
   "source": [
    "lista_nome_ajustado = [nome.title() for nome in lista_nomes]\n",
    "print(lista_nome_ajustado)"
   ]
  }
 ],
 "metadata": {
  "kernelspec": {
   "display_name": "base",
   "language": "python",
   "name": "python3"
  },
  "language_info": {
   "codemirror_mode": {
    "name": "ipython",
    "version": 3
   },
   "file_extension": ".py",
   "mimetype": "text/x-python",
   "name": "python",
   "nbconvert_exporter": "python",
   "pygments_lexer": "ipython3",
   "version": "3.9.12"
  },
  "orig_nbformat": 4,
  "vscode": {
   "interpreter": {
    "hash": "6799a9838c74b2f050301133963fac3ce89bb7e0f4bda8ff27cb161c2b80041b"
   }
  }
 },
 "nbformat": 4,
 "nbformat_minor": 2
}
