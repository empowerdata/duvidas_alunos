{
 "cells": [
  {
   "cell_type": "markdown",
   "metadata": {},
   "source": [
    "# Aplicando métodos de strings em elementos de uma lista"
   ]
  },
  {
   "cell_type": "markdown",
   "metadata": {},
   "source": [
    "# Dúvida\n",
    "\n",
    "Olá, tem como utilizar a função capitalize, lower em uma lista? tentei aplicar e não consegui.\n",
    "\n",
    "```python\n",
    "lista1 = [input(\"Inserir seu nome: \") , input(\"Inserir seu sobrenome: \")]\n",
    "lista1[0].lower\n",
    "print(lista1)\n",
    "\n",
    "\n",
    "lista2 = [ \"ROnilDo\" , \"WomBommel\"]\n",
    "print(lista2.capitalize() )\n",
    "\n",
    "```\n",
    "\n",
    "\n",
    "Nenhuma das opções funcionou."
   ]
  },
  {
   "cell_type": "markdown",
   "metadata": {},
   "source": [
    "# Solução\n",
    "\n",
    "Os métodos `lower()` e `capitalize()` são de objetos do tipo `string`.\n",
    "Porém, podemos aplicá-los em elementos de uma lista que são desse tipo:"
   ]
  },
  {
   "cell_type": "code",
   "execution_count": 2,
   "metadata": {},
   "outputs": [],
   "source": [
    "lista = [ \"ROnilDo\" , \"WomBommel\"]"
   ]
  },
  {
   "cell_type": "code",
   "execution_count": 3,
   "metadata": {},
   "outputs": [
    {
     "name": "stdout",
     "output_type": "stream",
     "text": [
      "['ronildo', 'wombommel']\n"
     ]
    }
   ],
   "source": [
    "lista_lower = [i.lower() for i in lista]\n",
    "print(lista_lower)"
   ]
  },
  {
   "cell_type": "code",
   "execution_count": 4,
   "metadata": {},
   "outputs": [
    {
     "name": "stdout",
     "output_type": "stream",
     "text": [
      "['Ronildo', 'Wombommel']\n"
     ]
    }
   ],
   "source": [
    "lista_lower = [i.capitalize() for i in lista]\n",
    "print(lista_lower)"
   ]
  },
  {
   "cell_type": "code",
   "execution_count": null,
   "metadata": {},
   "outputs": [],
   "source": []
  }
 ],
 "metadata": {
  "kernelspec": {
   "display_name": "Python 3.9.12 ('base')",
   "language": "python",
   "name": "python3"
  },
  "language_info": {
   "codemirror_mode": {
    "name": "ipython",
    "version": 3
   },
   "file_extension": ".py",
   "mimetype": "text/x-python",
   "name": "python",
   "nbconvert_exporter": "python",
   "pygments_lexer": "ipython3",
   "version": "3.9.12"
  },
  "orig_nbformat": 4,
  "vscode": {
   "interpreter": {
    "hash": "6467cde764c137f84d8db938254cde60243c46e0fe8734c86fbe71b9c1c73122"
   }
  }
 },
 "nbformat": 4,
 "nbformat_minor": 2
}
