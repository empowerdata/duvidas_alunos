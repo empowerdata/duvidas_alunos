{
 "cells": [
  {
   "attachments": {},
   "cell_type": "markdown",
   "metadata": {},
   "source": [
    "# Como gerar um PDF com uma tabela dinâmica e cores\n",
    "\n",
    "## Dúvida\n",
    "\n",
    "Como faço para gerar um PDF com uma tabela dinâmica (dados mudam) e utilizar cores diferentes para o texto?\n",
    "\n"
   ]
  },
  {
   "cell_type": "code",
   "execution_count": null,
   "metadata": {},
   "outputs": [],
   "source": [
    "!pip install fpdf2"
   ]
  },
  {
   "cell_type": "code",
   "execution_count": 5,
   "metadata": {},
   "outputs": [],
   "source": [
    "from fpdf import FPDF\n",
    "\n",
    "# usei um dicionário para exemplo, mas esses dados poderiam vir de inputs, banco de dados, APIs....etc...\n",
    "dados = (\n",
    "    (\"Nome\", \"Telefone\", \"Idade\", \"Cidade\"),\n",
    "    (\"João\", \"21 99999-9999\", \"34\", \"Rio de Janeiro\"),\n",
    "    (\"José\", \"11 99999-9999\", \"45\", \"São Paulo\"),\n",
    "    (\"Maria\", \"71 99999-9999\", \"19\", \"Salvador\"),\n",
    "    (\"Lucas\", \"31 99999-9999\", \"31\", \"Belo Horizonte\"),\n",
    ")\n",
    "\n",
    "pdf = FPDF()\n",
    "pdf.add_page()\n",
    "pdf.set_font(\"Times\")\n",
    "\n",
    "\n",
    "line_height = pdf.font_size * 2.5\n",
    "col_width = pdf.epw / 4  # calcula o tamanho das colunas\n",
    "\n",
    "pdf.set_font_size(18)\n",
    "pdf.cell(w=pdf.epw, h=10, txt=\"Gerando um PDF com tabela dinâmica\", align=\"C\")\n",
    "pdf.ln(line_height)\n",
    "pdf.ln(line_height)\n",
    "\n",
    "\n",
    "pdf.set_font_size(12)\n",
    "for linha in dados:\n",
    "        \n",
    "    for conteudo in linha:\n",
    "        # colocando o cabeçalho em azul\n",
    "        if conteudo in (\"Nome\", \"Telefone\", \"Idade\", \"Cidade\"):\n",
    "            pdf.set_text_color(0, 0, 255) # código RGB para azul\n",
    "        else:\n",
    "            pdf.set_text_color(0, 0, 0) # código RGB para preto\n",
    "\n",
    "        pdf.multi_cell(col_width, line_height, conteudo, \n",
    "                       border=1,new_x=\"RIGHT\", new_y=\"TOP\", \n",
    "                       max_line_height=pdf.font_size)\n",
    "    pdf.ln(line_height)\n",
    "\n",
    "pdf.output('PDF com tabela.pdf')"
   ]
  }
 ],
 "metadata": {
  "kernelspec": {
   "display_name": "base",
   "language": "python",
   "name": "python3"
  },
  "language_info": {
   "codemirror_mode": {
    "name": "ipython",
    "version": 3
   },
   "file_extension": ".py",
   "mimetype": "text/x-python",
   "name": "python",
   "nbconvert_exporter": "python",
   "pygments_lexer": "ipython3",
   "version": "3.9.12 (main, Apr  4 2022, 05:22:27) [MSC v.1916 64 bit (AMD64)]"
  },
  "orig_nbformat": 4,
  "vscode": {
   "interpreter": {
    "hash": "6467cde764c137f84d8db938254cde60243c46e0fe8734c86fbe71b9c1c73122"
   }
  }
 },
 "nbformat": 4,
 "nbformat_minor": 2
}
